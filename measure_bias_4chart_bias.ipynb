{
  "nbformat": 4,
  "nbformat_minor": 0,
  "metadata": {
    "colab": {
      "provenance": [],
      "authorship_tag": "ABX9TyMNYiulBR6sKTpCq6LjbL0z",
      "include_colab_link": true
    },
    "kernelspec": {
      "name": "python3",
      "display_name": "Python 3"
    },
    "language_info": {
      "name": "python"
    }
  },
  "cells": [
    {
      "cell_type": "markdown",
      "metadata": {
        "id": "view-in-github",
        "colab_type": "text"
      },
      "source": [
        "<a href=\"https://colab.research.google.com/github/cweidig/measuring_bias/blob/main/measure_bias_4chart_bias.ipynb\" target=\"_parent\"><img src=\"https://colab.research.google.com/assets/colab-badge.svg\" alt=\"Open In Colab\"/></a>"
      ]
    },
    {
      "cell_type": "code",
      "execution_count": 1,
      "metadata": {
        "colab": {
          "base_uri": "https://localhost:8080/"
        },
        "id": "20co8_T_n_li",
        "outputId": "20d80806-9714-4b2b-cc85-fe064cf0a8eb"
      },
      "outputs": [
        {
          "output_type": "stream",
          "name": "stdout",
          "text": [
            "Mounted at /content/drive\n"
          ]
        }
      ],
      "source": [
        "from google.colab import drive\n",
        "drive.mount('/content/drive')"
      ]
    },
    {
      "cell_type": "code",
      "source": [
        "# read the file mortgage_data_project.pkl from Google drive with pandas' read_pickle()\n",
        "import pandas as pd\n",
        "import seaborn as sns\n",
        "import numpy as np\n",
        "\n",
        "pickle_df = pd.read_pickle('drive/My Drive/mortgage_data_project.pkl')\n",
        "\n",
        "pickle_df.head()"
      ],
      "metadata": {
        "colab": {
          "base_uri": "https://localhost:8080/",
          "height": 499
        },
        "id": "FHd2RbsHwrSY",
        "outputId": "0868ed40-e22b-4fd6-802e-b714ab7651e1"
      },
      "execution_count": 2,
      "outputs": [
        {
          "output_type": "execute_result",
          "data": {
            "text/plain": [
              "   as_of_year respondent_id                                agency_name  \\\n",
              "0        2011    0000009179  Office of the Comptroller of the Currency   \n",
              "1        2011    0000476810       Consumer Financial Protection Bureau   \n",
              "2        2011    0000451965       Consumer Financial Protection Bureau   \n",
              "3        2011    0000030052      Federal Deposit Insurance Corporation   \n",
              "4        2011    0002888798                     Federal Reserve System   \n",
              "\n",
              "  agency_abbr  agency_code loan_type_name  loan_type  \\\n",
              "0         OCC            1   Conventional          1   \n",
              "1        CFPB            9   Conventional          1   \n",
              "2        CFPB            9   Conventional          1   \n",
              "3        FDIC            3   Conventional          1   \n",
              "4         FRS            2    FHA-insured          2   \n",
              "\n",
              "                                  property_type_name  property_type  \\\n",
              "0  One-to-four family dwelling (other than manufa...              1   \n",
              "1  One-to-four family dwelling (other than manufa...              1   \n",
              "2  One-to-four family dwelling (other than manufa...              1   \n",
              "3  One-to-four family dwelling (other than manufa...              1   \n",
              "4  One-to-four family dwelling (other than manufa...              1   \n",
              "\n",
              "  loan_purpose_name  ...  edit_status_name edit_status  sequence_number  \\\n",
              "0       Refinancing  ...               NaN         NaN             1653   \n",
              "1       Refinancing  ...               NaN         NaN            31273   \n",
              "2       Refinancing  ...               NaN         NaN          1164651   \n",
              "3  Home improvement  ...               NaN         NaN              515   \n",
              "4     Home purchase  ...               NaN         NaN            44491   \n",
              "\n",
              "   population minority_population  hud_median_family_income  \\\n",
              "0      5972.0            1.890000                   66600.0   \n",
              "1      4188.0            4.660000                   49500.0   \n",
              "2      9565.0           42.529999                   61200.0   \n",
              "3      5928.0            9.990000                   67400.0   \n",
              "4      4021.0            3.560000                   54200.0   \n",
              "\n",
              "  tract_to_msamd_income  number_of_owner_occupied_units  \\\n",
              "0            106.129997                          1973.0   \n",
              "1            106.169998                          1331.0   \n",
              "2            100.330002                          2504.0   \n",
              "3            170.520004                          1755.0   \n",
              "4            139.789993                          1296.0   \n",
              "\n",
              "  number_of_1_to_4_family_units  application_date_indicator  \n",
              "0                        2194.0                           0  \n",
              "1                        3113.0                           0  \n",
              "2                        3149.0                           0  \n",
              "3                        2102.0                           0  \n",
              "4                        1487.0                           0  \n",
              "\n",
              "[5 rows x 78 columns]"
            ],
            "text/html": [
              "\n",
              "  <div id=\"df-280215de-ad56-41ed-af87-562fd18e6f66\" class=\"colab-df-container\">\n",
              "    <div>\n",
              "<style scoped>\n",
              "    .dataframe tbody tr th:only-of-type {\n",
              "        vertical-align: middle;\n",
              "    }\n",
              "\n",
              "    .dataframe tbody tr th {\n",
              "        vertical-align: top;\n",
              "    }\n",
              "\n",
              "    .dataframe thead th {\n",
              "        text-align: right;\n",
              "    }\n",
              "</style>\n",
              "<table border=\"1\" class=\"dataframe\">\n",
              "  <thead>\n",
              "    <tr style=\"text-align: right;\">\n",
              "      <th></th>\n",
              "      <th>as_of_year</th>\n",
              "      <th>respondent_id</th>\n",
              "      <th>agency_name</th>\n",
              "      <th>agency_abbr</th>\n",
              "      <th>agency_code</th>\n",
              "      <th>loan_type_name</th>\n",
              "      <th>loan_type</th>\n",
              "      <th>property_type_name</th>\n",
              "      <th>property_type</th>\n",
              "      <th>loan_purpose_name</th>\n",
              "      <th>...</th>\n",
              "      <th>edit_status_name</th>\n",
              "      <th>edit_status</th>\n",
              "      <th>sequence_number</th>\n",
              "      <th>population</th>\n",
              "      <th>minority_population</th>\n",
              "      <th>hud_median_family_income</th>\n",
              "      <th>tract_to_msamd_income</th>\n",
              "      <th>number_of_owner_occupied_units</th>\n",
              "      <th>number_of_1_to_4_family_units</th>\n",
              "      <th>application_date_indicator</th>\n",
              "    </tr>\n",
              "  </thead>\n",
              "  <tbody>\n",
              "    <tr>\n",
              "      <th>0</th>\n",
              "      <td>2011</td>\n",
              "      <td>0000009179</td>\n",
              "      <td>Office of the Comptroller of the Currency</td>\n",
              "      <td>OCC</td>\n",
              "      <td>1</td>\n",
              "      <td>Conventional</td>\n",
              "      <td>1</td>\n",
              "      <td>One-to-four family dwelling (other than manufa...</td>\n",
              "      <td>1</td>\n",
              "      <td>Refinancing</td>\n",
              "      <td>...</td>\n",
              "      <td>NaN</td>\n",
              "      <td>NaN</td>\n",
              "      <td>1653</td>\n",
              "      <td>5972.0</td>\n",
              "      <td>1.890000</td>\n",
              "      <td>66600.0</td>\n",
              "      <td>106.129997</td>\n",
              "      <td>1973.0</td>\n",
              "      <td>2194.0</td>\n",
              "      <td>0</td>\n",
              "    </tr>\n",
              "    <tr>\n",
              "      <th>1</th>\n",
              "      <td>2011</td>\n",
              "      <td>0000476810</td>\n",
              "      <td>Consumer Financial Protection Bureau</td>\n",
              "      <td>CFPB</td>\n",
              "      <td>9</td>\n",
              "      <td>Conventional</td>\n",
              "      <td>1</td>\n",
              "      <td>One-to-four family dwelling (other than manufa...</td>\n",
              "      <td>1</td>\n",
              "      <td>Refinancing</td>\n",
              "      <td>...</td>\n",
              "      <td>NaN</td>\n",
              "      <td>NaN</td>\n",
              "      <td>31273</td>\n",
              "      <td>4188.0</td>\n",
              "      <td>4.660000</td>\n",
              "      <td>49500.0</td>\n",
              "      <td>106.169998</td>\n",
              "      <td>1331.0</td>\n",
              "      <td>3113.0</td>\n",
              "      <td>0</td>\n",
              "    </tr>\n",
              "    <tr>\n",
              "      <th>2</th>\n",
              "      <td>2011</td>\n",
              "      <td>0000451965</td>\n",
              "      <td>Consumer Financial Protection Bureau</td>\n",
              "      <td>CFPB</td>\n",
              "      <td>9</td>\n",
              "      <td>Conventional</td>\n",
              "      <td>1</td>\n",
              "      <td>One-to-four family dwelling (other than manufa...</td>\n",
              "      <td>1</td>\n",
              "      <td>Refinancing</td>\n",
              "      <td>...</td>\n",
              "      <td>NaN</td>\n",
              "      <td>NaN</td>\n",
              "      <td>1164651</td>\n",
              "      <td>9565.0</td>\n",
              "      <td>42.529999</td>\n",
              "      <td>61200.0</td>\n",
              "      <td>100.330002</td>\n",
              "      <td>2504.0</td>\n",
              "      <td>3149.0</td>\n",
              "      <td>0</td>\n",
              "    </tr>\n",
              "    <tr>\n",
              "      <th>3</th>\n",
              "      <td>2011</td>\n",
              "      <td>0000030052</td>\n",
              "      <td>Federal Deposit Insurance Corporation</td>\n",
              "      <td>FDIC</td>\n",
              "      <td>3</td>\n",
              "      <td>Conventional</td>\n",
              "      <td>1</td>\n",
              "      <td>One-to-four family dwelling (other than manufa...</td>\n",
              "      <td>1</td>\n",
              "      <td>Home improvement</td>\n",
              "      <td>...</td>\n",
              "      <td>NaN</td>\n",
              "      <td>NaN</td>\n",
              "      <td>515</td>\n",
              "      <td>5928.0</td>\n",
              "      <td>9.990000</td>\n",
              "      <td>67400.0</td>\n",
              "      <td>170.520004</td>\n",
              "      <td>1755.0</td>\n",
              "      <td>2102.0</td>\n",
              "      <td>0</td>\n",
              "    </tr>\n",
              "    <tr>\n",
              "      <th>4</th>\n",
              "      <td>2011</td>\n",
              "      <td>0002888798</td>\n",
              "      <td>Federal Reserve System</td>\n",
              "      <td>FRS</td>\n",
              "      <td>2</td>\n",
              "      <td>FHA-insured</td>\n",
              "      <td>2</td>\n",
              "      <td>One-to-four family dwelling (other than manufa...</td>\n",
              "      <td>1</td>\n",
              "      <td>Home purchase</td>\n",
              "      <td>...</td>\n",
              "      <td>NaN</td>\n",
              "      <td>NaN</td>\n",
              "      <td>44491</td>\n",
              "      <td>4021.0</td>\n",
              "      <td>3.560000</td>\n",
              "      <td>54200.0</td>\n",
              "      <td>139.789993</td>\n",
              "      <td>1296.0</td>\n",
              "      <td>1487.0</td>\n",
              "      <td>0</td>\n",
              "    </tr>\n",
              "  </tbody>\n",
              "</table>\n",
              "<p>5 rows × 78 columns</p>\n",
              "</div>\n",
              "    <div class=\"colab-df-buttons\">\n",
              "\n",
              "  <div class=\"colab-df-container\">\n",
              "    <button class=\"colab-df-convert\" onclick=\"convertToInteractive('df-280215de-ad56-41ed-af87-562fd18e6f66')\"\n",
              "            title=\"Convert this dataframe to an interactive table.\"\n",
              "            style=\"display:none;\">\n",
              "\n",
              "  <svg xmlns=\"http://www.w3.org/2000/svg\" height=\"24px\" viewBox=\"0 -960 960 960\">\n",
              "    <path d=\"M120-120v-720h720v720H120Zm60-500h600v-160H180v160Zm220 220h160v-160H400v160Zm0 220h160v-160H400v160ZM180-400h160v-160H180v160Zm440 0h160v-160H620v160ZM180-180h160v-160H180v160Zm440 0h160v-160H620v160Z\"/>\n",
              "  </svg>\n",
              "    </button>\n",
              "\n",
              "  <style>\n",
              "    .colab-df-container {\n",
              "      display:flex;\n",
              "      gap: 12px;\n",
              "    }\n",
              "\n",
              "    .colab-df-convert {\n",
              "      background-color: #E8F0FE;\n",
              "      border: none;\n",
              "      border-radius: 50%;\n",
              "      cursor: pointer;\n",
              "      display: none;\n",
              "      fill: #1967D2;\n",
              "      height: 32px;\n",
              "      padding: 0 0 0 0;\n",
              "      width: 32px;\n",
              "    }\n",
              "\n",
              "    .colab-df-convert:hover {\n",
              "      background-color: #E2EBFA;\n",
              "      box-shadow: 0px 1px 2px rgba(60, 64, 67, 0.3), 0px 1px 3px 1px rgba(60, 64, 67, 0.15);\n",
              "      fill: #174EA6;\n",
              "    }\n",
              "\n",
              "    .colab-df-buttons div {\n",
              "      margin-bottom: 4px;\n",
              "    }\n",
              "\n",
              "    [theme=dark] .colab-df-convert {\n",
              "      background-color: #3B4455;\n",
              "      fill: #D2E3FC;\n",
              "    }\n",
              "\n",
              "    [theme=dark] .colab-df-convert:hover {\n",
              "      background-color: #434B5C;\n",
              "      box-shadow: 0px 1px 3px 1px rgba(0, 0, 0, 0.15);\n",
              "      filter: drop-shadow(0px 1px 2px rgba(0, 0, 0, 0.3));\n",
              "      fill: #FFFFFF;\n",
              "    }\n",
              "  </style>\n",
              "\n",
              "    <script>\n",
              "      const buttonEl =\n",
              "        document.querySelector('#df-280215de-ad56-41ed-af87-562fd18e6f66 button.colab-df-convert');\n",
              "      buttonEl.style.display =\n",
              "        google.colab.kernel.accessAllowed ? 'block' : 'none';\n",
              "\n",
              "      async function convertToInteractive(key) {\n",
              "        const element = document.querySelector('#df-280215de-ad56-41ed-af87-562fd18e6f66');\n",
              "        const dataTable =\n",
              "          await google.colab.kernel.invokeFunction('convertToInteractive',\n",
              "                                                    [key], {});\n",
              "        if (!dataTable) return;\n",
              "\n",
              "        const docLinkHtml = 'Like what you see? Visit the ' +\n",
              "          '<a target=\"_blank\" href=https://colab.research.google.com/notebooks/data_table.ipynb>data table notebook</a>'\n",
              "          + ' to learn more about interactive tables.';\n",
              "        element.innerHTML = '';\n",
              "        dataTable['output_type'] = 'display_data';\n",
              "        await google.colab.output.renderOutput(dataTable, element);\n",
              "        const docLink = document.createElement('div');\n",
              "        docLink.innerHTML = docLinkHtml;\n",
              "        element.appendChild(docLink);\n",
              "      }\n",
              "    </script>\n",
              "  </div>\n",
              "\n",
              "\n",
              "<div id=\"df-39853e81-4aa8-4223-bd09-3f154f4d8d85\">\n",
              "  <button class=\"colab-df-quickchart\" onclick=\"quickchart('df-39853e81-4aa8-4223-bd09-3f154f4d8d85')\"\n",
              "            title=\"Suggest charts\"\n",
              "            style=\"display:none;\">\n",
              "\n",
              "<svg xmlns=\"http://www.w3.org/2000/svg\" height=\"24px\"viewBox=\"0 0 24 24\"\n",
              "     width=\"24px\">\n",
              "    <g>\n",
              "        <path d=\"M19 3H5c-1.1 0-2 .9-2 2v14c0 1.1.9 2 2 2h14c1.1 0 2-.9 2-2V5c0-1.1-.9-2-2-2zM9 17H7v-7h2v7zm4 0h-2V7h2v10zm4 0h-2v-4h2v4z\"/>\n",
              "    </g>\n",
              "</svg>\n",
              "  </button>\n",
              "\n",
              "<style>\n",
              "  .colab-df-quickchart {\n",
              "      --bg-color: #E8F0FE;\n",
              "      --fill-color: #1967D2;\n",
              "      --hover-bg-color: #E2EBFA;\n",
              "      --hover-fill-color: #174EA6;\n",
              "      --disabled-fill-color: #AAA;\n",
              "      --disabled-bg-color: #DDD;\n",
              "  }\n",
              "\n",
              "  [theme=dark] .colab-df-quickchart {\n",
              "      --bg-color: #3B4455;\n",
              "      --fill-color: #D2E3FC;\n",
              "      --hover-bg-color: #434B5C;\n",
              "      --hover-fill-color: #FFFFFF;\n",
              "      --disabled-bg-color: #3B4455;\n",
              "      --disabled-fill-color: #666;\n",
              "  }\n",
              "\n",
              "  .colab-df-quickchart {\n",
              "    background-color: var(--bg-color);\n",
              "    border: none;\n",
              "    border-radius: 50%;\n",
              "    cursor: pointer;\n",
              "    display: none;\n",
              "    fill: var(--fill-color);\n",
              "    height: 32px;\n",
              "    padding: 0;\n",
              "    width: 32px;\n",
              "  }\n",
              "\n",
              "  .colab-df-quickchart:hover {\n",
              "    background-color: var(--hover-bg-color);\n",
              "    box-shadow: 0 1px 2px rgba(60, 64, 67, 0.3), 0 1px 3px 1px rgba(60, 64, 67, 0.15);\n",
              "    fill: var(--button-hover-fill-color);\n",
              "  }\n",
              "\n",
              "  .colab-df-quickchart-complete:disabled,\n",
              "  .colab-df-quickchart-complete:disabled:hover {\n",
              "    background-color: var(--disabled-bg-color);\n",
              "    fill: var(--disabled-fill-color);\n",
              "    box-shadow: none;\n",
              "  }\n",
              "\n",
              "  .colab-df-spinner {\n",
              "    border: 2px solid var(--fill-color);\n",
              "    border-color: transparent;\n",
              "    border-bottom-color: var(--fill-color);\n",
              "    animation:\n",
              "      spin 1s steps(1) infinite;\n",
              "  }\n",
              "\n",
              "  @keyframes spin {\n",
              "    0% {\n",
              "      border-color: transparent;\n",
              "      border-bottom-color: var(--fill-color);\n",
              "      border-left-color: var(--fill-color);\n",
              "    }\n",
              "    20% {\n",
              "      border-color: transparent;\n",
              "      border-left-color: var(--fill-color);\n",
              "      border-top-color: var(--fill-color);\n",
              "    }\n",
              "    30% {\n",
              "      border-color: transparent;\n",
              "      border-left-color: var(--fill-color);\n",
              "      border-top-color: var(--fill-color);\n",
              "      border-right-color: var(--fill-color);\n",
              "    }\n",
              "    40% {\n",
              "      border-color: transparent;\n",
              "      border-right-color: var(--fill-color);\n",
              "      border-top-color: var(--fill-color);\n",
              "    }\n",
              "    60% {\n",
              "      border-color: transparent;\n",
              "      border-right-color: var(--fill-color);\n",
              "    }\n",
              "    80% {\n",
              "      border-color: transparent;\n",
              "      border-right-color: var(--fill-color);\n",
              "      border-bottom-color: var(--fill-color);\n",
              "    }\n",
              "    90% {\n",
              "      border-color: transparent;\n",
              "      border-bottom-color: var(--fill-color);\n",
              "    }\n",
              "  }\n",
              "</style>\n",
              "\n",
              "  <script>\n",
              "    async function quickchart(key) {\n",
              "      const quickchartButtonEl =\n",
              "        document.querySelector('#' + key + ' button');\n",
              "      quickchartButtonEl.disabled = true;  // To prevent multiple clicks.\n",
              "      quickchartButtonEl.classList.add('colab-df-spinner');\n",
              "      try {\n",
              "        const charts = await google.colab.kernel.invokeFunction(\n",
              "            'suggestCharts', [key], {});\n",
              "      } catch (error) {\n",
              "        console.error('Error during call to suggestCharts:', error);\n",
              "      }\n",
              "      quickchartButtonEl.classList.remove('colab-df-spinner');\n",
              "      quickchartButtonEl.classList.add('colab-df-quickchart-complete');\n",
              "    }\n",
              "    (() => {\n",
              "      let quickchartButtonEl =\n",
              "        document.querySelector('#df-39853e81-4aa8-4223-bd09-3f154f4d8d85 button');\n",
              "      quickchartButtonEl.style.display =\n",
              "        google.colab.kernel.accessAllowed ? 'block' : 'none';\n",
              "    })();\n",
              "  </script>\n",
              "</div>\n",
              "\n",
              "    </div>\n",
              "  </div>\n"
            ]
          },
          "metadata": {},
          "execution_count": 2
        }
      ]
    },
    {
      "cell_type": "code",
      "source": [
        "# Do a quick inspection to get familiar with the dataset by\n",
        "# (i) analyzing the number of rows and columns;\n",
        "pickle_df.shape\n",
        "\n",
        "# (ii) visualizing the first few lines of the dataset; and\n",
        "pickle_df.head()\n",
        "\n",
        "# (iii) listing the names of each variable and type.\n",
        "pickle_df.columns\n",
        "pickle_df.dtypes"
      ],
      "metadata": {
        "colab": {
          "base_uri": "https://localhost:8080/"
        },
        "id": "eZbLTKI7zfo4",
        "outputId": "7e58ce67-be03-4c6b-e07a-856277d8555a"
      },
      "execution_count": 3,
      "outputs": [
        {
          "output_type": "execute_result",
          "data": {
            "text/plain": [
              "as_of_year                          int64\n",
              "respondent_id                      object\n",
              "agency_name                        object\n",
              "agency_abbr                        object\n",
              "agency_code                         int64\n",
              "                                   ...   \n",
              "hud_median_family_income          float64\n",
              "tract_to_msamd_income             float64\n",
              "number_of_owner_occupied_units    float64\n",
              "number_of_1_to_4_family_units     float64\n",
              "application_date_indicator          int64\n",
              "Length: 78, dtype: object"
            ]
          },
          "metadata": {},
          "execution_count": 3
        }
      ]
    },
    {
      "cell_type": "code",
      "source": [
        "# Apply a log transformation to the raw applicant_income_000s values and add them as a new column to the dataframe named log(applicant_income_000s).\n",
        "pickle_df['log(applicant_income_000s)'] = np.log(pickle_df['applicant_income_000s'])\n",
        "\n",
        "# Plot another histogram for log(applicant_income_000s)\n",
        "sns.histplot(data=pickle_df, x='log(applicant_income_000s)', bins=100)"
      ],
      "metadata": {
        "colab": {
          "base_uri": "https://localhost:8080/",
          "height": 467
        },
        "id": "oyDmarmEwqMJ",
        "outputId": "4db54d6a-83ef-4be9-d8cb-b920e9602a13"
      },
      "execution_count": 4,
      "outputs": [
        {
          "output_type": "execute_result",
          "data": {
            "text/plain": [
              "<Axes: xlabel='log(applicant_income_000s)', ylabel='Count'>"
            ]
          },
          "metadata": {},
          "execution_count": 4
        },
        {
          "output_type": "display_data",
          "data": {
            "text/plain": [
              "<Figure size 640x480 with 1 Axes>"
            ],
            "image/png": "[encoded data removed]"
          },
          "metadata": {}
        }
      ]
    },
    {
      "cell_type": "code",
      "source": [
        "keep_vars = ['agency_abbr', 'loan_type_name', 'loan_amount_000s', 'log(applicant_income_000s)', 'owner_occupancy_name', 'loan_purpose_name', 'property_type_name', 'applicant_ethnicity_name', 'applicant_race_name_1', 'applicant_sex_name', 'applicant_income_000s', 'population', 'minority_population', 'hud_median_family_income', 'tract_to_msamd_income', 'number_of_owner_occupied_units', 'number_of_1_to_4_family_units', 'action_taken_name']\n",
        "\n",
        "pickle_df_filtered = pickle_df[keep_vars]\n",
        "\n",
        "pickle_df_filtered.columns"
      ],
      "metadata": {
        "colab": {
          "base_uri": "https://localhost:8080/"
        },
        "id": "DaBNeEsDfCba",
        "outputId": "ff346373-3b2c-4e32-dd3c-7ce92886bf74"
      },
      "execution_count": 6,
      "outputs": [
        {
          "output_type": "execute_result",
          "data": {
            "text/plain": [
              "Index(['agency_abbr', 'loan_type_name', 'loan_amount_000s',\n",
              "       'log(applicant_income_000s)', 'owner_occupancy_name',\n",
              "       'loan_purpose_name', 'property_type_name', 'applicant_ethnicity_name',\n",
              "       'applicant_race_name_1', 'applicant_sex_name', 'applicant_income_000s',\n",
              "       'population', 'minority_population', 'hud_median_family_income',\n",
              "       'tract_to_msamd_income', 'number_of_owner_occupied_units',\n",
              "       'number_of_1_to_4_family_units', 'action_taken_name'],\n",
              "      dtype='object')"
            ]
          },
          "metadata": {},
          "execution_count": 6
        }
      ]
    },
    {
      "cell_type": "code",
      "source": [
        "\n",
        "pred_35 = pickle_df_filtered['log(applicant_income_000s)'] > 3.5\n",
        "pred_43 = pickle_df_filtered['log(applicant_income_000s)'] > 4.3\n",
        "pred_50 = pickle_df_filtered['log(applicant_income_000s)'] > 5.0\n",
        "\n",
        "assert(pred_35.sum() == 140608)\n",
        "assert(pred_43.sum() == 70354)\n",
        "assert(pred_50.sum() == 19405)\n",
        "\n",
        "pred_35"
      ],
      "metadata": {
        "colab": {
          "base_uri": "https://localhost:8080/"
        },
        "id": "NJVlo_4he6xz",
        "outputId": "cb39b019-9e60-42f1-fb6a-2c8f3cc56e5b"
      },
      "execution_count": 7,
      "outputs": [
        {
          "output_type": "execute_result",
          "data": {
            "text/plain": [
              "0          True\n",
              "1         False\n",
              "2          True\n",
              "3          True\n",
              "4          True\n",
              "          ...  \n",
              "165945     True\n",
              "165946    False\n",
              "165947     True\n",
              "165948     True\n",
              "165949     True\n",
              "Name: log(applicant_income_000s), Length: 165950, dtype: bool"
            ]
          },
          "metadata": {},
          "execution_count": 7
        }
      ]
    },
    {
      "cell_type": "code",
      "source": [
        "def accept_rate_group(group=None):\n",
        "  def accept_rate(pred):\n",
        "    def pred_group():\n",
        "      return pred[group] if group is not None else pred\n",
        "    return pred_group().mean() * 100\n",
        "  return accept_rate\n",
        "\n",
        "female = (pickle_df_filtered['applicant_sex_name'] == \"Female\").copy()\n",
        "male = (pickle_df_filtered['applicant_sex_name'] == \"Male\").copy()\n",
        "\n",
        "accept_rate = accept_rate_group()\n",
        "accept_rate_male = accept_rate_group(male)\n",
        "accept_rate_female = accept_rate_group(female)\n",
        "\n",
        "## acceptance rate % across thresholds\n",
        "### total\n",
        "accept_rate_35 = accept_rate(pred_35)\n",
        "accept_rate_43 = accept_rate(pred_43)\n",
        "accept_rate_50 = accept_rate(pred_50)\n",
        "\n",
        "### male\n",
        "male_35 = male[pred_35].copy()\n",
        "male_43 = male[pred_43].copy()\n",
        "male_50 = male[pred_50].copy()\n",
        "accept_rate_male_35 = accept_rate_male(pred_35)\n",
        "accept_rate_male_43 = accept_rate_male(pred_43)\n",
        "accept_rate_male_50 = accept_rate_male(pred_50)\n",
        "\n",
        "### female\n",
        "female_35 = female[pred_35].copy()\n",
        "female_43 = female[pred_43].copy()\n",
        "female_50 = female[pred_50].copy()\n",
        "accept_rate_female_35 = accept_rate_female(pred_35)\n",
        "accept_rate_female_43 = accept_rate_female(pred_43)\n",
        "accept_rate_female_50 = accept_rate_female(pred_50)"
      ],
      "metadata": {
        "id": "z_imH931gYAF"
      },
      "execution_count": 21,
      "outputs": []
    },
    {
      "cell_type": "code",
      "source": [
        "import seaborn as sns\n",
        "\n",
        "# chart different thresholds: acceptance rates, disparate impact and 2-SD rule\n",
        "d = pd.DataFrame({\"Threshold\": [3.5, 4.3, 5.0],\n",
        "                  \"Total Acceptance Rate\": [accept_rate_35, accept_rate_43, accept_rate_50],\n",
        "                  \"Female Acceptance Rate\": [accept_rate_female_35, accept_rate_female_43, accept_rate_female_50],\n",
        "                  \"Male Acceptance Rate\": [accept_rate_male_35, accept_rate_male_43, accept_rate_male_50]})\n",
        "\n",
        "sns.barplot(data=d, x=\"Threshold\", y=\"Total Acceptance Rate\").set_title('Total Acceptance Rate')\n",
        "import matplotlib.pyplot as plt\n",
        "plt.show()"
      ],
      "metadata": {
        "colab": {
          "base_uri": "https://localhost:8080/",
          "height": 472
        },
        "id": "VHDMrw6PcV2R",
        "outputId": "b08f5b8e-3936-423e-fa2e-7f038a0e0fb1"
      },
      "execution_count": 24,
      "outputs": [
        {
          "output_type": "display_data",
          "data": {
            "text/plain": [
              "<Figure size 640x480 with 1 Axes>"
            ],
            "image/png": "[encoded data removed]"
          },
          "metadata": {}
        }
      ]
    },
    {
      "cell_type": "code",
      "source": [
        "sns.barplot(data=d, x=\"Threshold\", y=\"Female Acceptance Rate\").set_title('Female Acceptance Rate')\n",
        "plt.show()"
      ],
      "metadata": {
        "colab": {
          "base_uri": "https://localhost:8080/",
          "height": 472
        },
        "id": "glnlbTz_fOL7",
        "outputId": "b5feb687-2cde-42b9-8129-40469b6a4460"
      },
      "execution_count": 25,
      "outputs": [
        {
          "output_type": "display_data",
          "data": {
            "text/plain": [
              "<Figure size 640x480 with 1 Axes>"
            ],
            "image/png": "[encoded data removed]"
          },
          "metadata": {}
        }
      ]
    },
    {
      "cell_type": "code",
      "source": [
        "sns.barplot(data=d, x=\"Threshold\", y=\"Male Acceptance Rate\").set_title('Male Acceptance Rate')\n",
        "plt.show()"
      ],
      "metadata": {
        "colab": {
          "base_uri": "https://localhost:8080/",
          "height": 472
        },
        "id": "Y7fWXKWjfY4I",
        "outputId": "93bb74d4-a441-446c-c1ca-57a950b9537d"
      },
      "execution_count": 26,
      "outputs": [
        {
          "output_type": "display_data",
          "data": {
            "text/plain": [
              "<Figure size 640x480 with 1 Axes>"
            ],
            "image/png": "[encoded data removed]"
          },
          "metadata": {}
        }
      ]
    },
    {
      "cell_type": "code",
      "source": [
        "# Compute and chart the Disparate Impact metric\n",
        "# The Disparate Impact is defined as the relation of positive outcomes for Group A (unprivileged) in relation to Group B (privileged)\n",
        "# DP = Freq(decision = originated | group = female) / Freq(decision = originated | group = male)\n",
        "\n",
        "def DispImpact(pred, group_a, group_b):\n",
        "  ### Disparate Impact\n",
        "  SR_A = pred[group_a==1].mean() # success rate group A\n",
        "  SR_B = pred[group_b==1].mean() # success rate group B\n",
        "  return SR_A/SR_B\n",
        "\n",
        "## disparate impact across thresholds\n",
        "DP_35 = DispImpact(pred_35, female, male)\n",
        "DP_43 = DispImpact(pred_43, female, male)\n",
        "DP_50 = DispImpact(pred_50, female, male)\n",
        "\n",
        "from math import isclose\n",
        "\n",
        "assert(isclose(DP_35, 0.864, rel_tol=0.001))\n",
        "assert(isclose(DP_43, 0.605, rel_tol=0.001))\n",
        "assert(isclose(DP_50, 0.3996, rel_tol=0.001))\n",
        "\n",
        "d = pd.DataFrame({\"Threshold\": [3.5, 4.3, 5.0],\n",
        "                  \"Disparate Impact\": [DP_35, DP_43, DP_50]})\n",
        "\n",
        "sns.barplot(data=d, x=\"Threshold\", y=\"Disparate Impact\").set_title(\"Disparate Impact\")\n",
        "plt.show()"
      ],
      "metadata": {
        "colab": {
          "base_uri": "https://localhost:8080/",
          "height": 472
        },
        "id": "ROm2i0FPfiL8",
        "outputId": "f5e1f1d5-c1e8-4605-dd8f-f6edd1943b8c"
      },
      "execution_count": 27,
      "outputs": [
        {
          "output_type": "display_data",
          "data": {
            "text/plain": [
              "<Figure size 640x480 with 1 Axes>"
            ],
            "image/png": "[encoded data removed]"
          },
          "metadata": {}
        }
      ]
    },
    {
      "cell_type": "code",
      "source": [
        "# Compute and chart the 2-SD Rule metric\n",
        "# The 2-SD Rule is defined as the test statistic of the difference between the positive outcomes for Group A (unprivileged) in respect to Group B (privileged)\n",
        "\n",
        "def TwoSDRule(pred, group_a, group_b):\n",
        "  ### Disparate Impact\n",
        "  SR_A = pred[group_a==1].mean() # success rate group A\n",
        "  SR_B = pred[group_b==1].mean() # success rate group B\n",
        "  SR_T = pred.mean() # success rate total\n",
        "  P_min = (group_a==1).mean() # minority proportion - usually group A\n",
        "  N = len(pred) # sample size\n",
        "  return (SR_A - SR_B)/np.sqrt( (SR_T * (1.0 - SR_T))/(N * P_min * (1 - P_min)))\n",
        "\n",
        "\n",
        "## 2-SD Rule across thresholds\n",
        "TSD_35 = TwoSDRule(pred_35, female, male)\n",
        "TSD_43 = TwoSDRule(pred_43, female, male)\n",
        "TSD_50 = TwoSDRule(pred_50, female, male)\n",
        "\n",
        "tsd = pd.DataFrame({\"Threshold\": [3.5, 4.3, 5.0],\n",
        "                  \"Two SD\": [TSD_35, TSD_43, TSD_50]})\n",
        "\n",
        "sns.barplot(data=tsd, x=\"Threshold\", y=\"Two SD\").set_title(\"Two Stan. Dev. Rule\")\n",
        "plt.show()"
      ],
      "metadata": {
        "colab": {
          "base_uri": "https://localhost:8080/",
          "height": 472
        },
        "id": "NuJO2DB3kvFe",
        "outputId": "249f6e89-eccb-4832-c470-bb8b841fcfe5"
      },
      "execution_count": 32,
      "outputs": [
        {
          "output_type": "display_data",
          "data": {
            "text/plain": [
              "<Figure size 640x480 with 1 Axes>"
            ],
            "image/png": "[encoded data removed]"
          },
          "metadata": {}
        }
      ]
    }
  ]
}