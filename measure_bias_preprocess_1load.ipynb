{
  "nbformat": 4,
  "nbformat_minor": 0,
  "metadata": {
    "colab": {
      "provenance": [],
      "authorship_tag": "ABX9TyMbtUDDbFLtB7WDw4BjFeJ9",
      "include_colab_link": true
    },
    "kernelspec": {
      "name": "python3",
      "display_name": "Python 3"
    },
    "language_info": {
      "name": "python"
    }
  },
  "cells": [
    {
      "cell_type": "markdown",
      "metadata": {
        "id": "view-in-github",
        "colab_type": "text"
      },
      "source": [
        "<a href=\"https://colab.research.google.com/github/cweidig/measuring_bias/blob/main/measure_bias_preprocess_1load.ipynb\" target=\"_parent\"><img src=\"https://colab.research.google.com/assets/colab-badge.svg\" alt=\"Open In Colab\"/></a>"
      ]
    },
    {
      "cell_type": "code",
      "execution_count": 3,
      "metadata": {
        "colab": {
          "base_uri": "https://localhost:8080/"
        },
        "id": "20co8_T_n_li",
        "outputId": "8183b584-1809-403f-dd34-a0f7a0affb76"
      },
      "outputs": [
        {
          "output_type": "stream",
          "name": "stdout",
          "text": [
            "Mounted at /content/drive\n"
          ]
        }
      ],
      "source": [
        "from google.colab import drive\n",
        "drive.mount('/content/drive')"
      ]
    },
    {
      "cell_type": "code",
      "source": [
        "# read the file mortgage_data_project.pkl from Google drive with pandas' read_pickle()\n",
        "import pandas as pd\n",
        "import seaborn as sns\n",
        "import numpy as np\n",
        "\n",
        "# Load the datset into a pandas dataframe\n",
        "from joblib import load\n",
        "\n",
        "df = load(\"/content/drive/My Drive/mortgage_data_preprocessed.pkl.gz\")"
      ],
      "metadata": {
        "id": "FHd2RbsHwrSY"
      },
      "execution_count": 4,
      "outputs": []
    },
    {
      "cell_type": "code",
      "execution_count": 5,
      "metadata": {
        "colab": {
          "base_uri": "https://localhost:8080/"
        },
        "id": "w3IFMV9GprF2",
        "outputId": "f0d4907f-88cc-4a7d-a10a-16d2b5db9340"
      },
      "outputs": [
        {
          "output_type": "execute_result",
          "data": {
            "text/plain": [
              "(165950, 36)"
            ]
          },
          "metadata": {},
          "execution_count": 5
        }
      ],
      "source": [
        "# (i) analyzing the number of rows and columns\n",
        "\n",
        "df.shape"
      ]
    },
    {
      "cell_type": "code",
      "source": [
        "# (ii) visualizing the first few lines of the dataset\n",
        "df.head(10)"
      ],
      "metadata": {
        "id": "IozitIwAqibh"
      },
      "execution_count": null,
      "outputs": []
    },
    {
      "cell_type": "code",
      "source": [
        "# (iii) listing the names of each variable and type\n",
        "\n",
        "df.columns\n",
        "df.dtypes"
      ],
      "metadata": {
        "colab": {
          "base_uri": "https://localhost:8080/"
        },
        "id": "IgYV74QAqpUo",
        "outputId": "2fed8ae9-0881-41df-8f3d-11cc5b4b4486"
      },
      "execution_count": 11,
      "outputs": [
        {
          "output_type": "execute_result",
          "data": {
            "text/plain": [
              "loan_amount_000s                                                                      int64\n",
              "applicant_income_000s                                                               float64\n",
              "population                                                                          float64\n",
              "minority_population                                                                 float64\n",
              "hud_median_family_income                                                            float64\n",
              "tract_to_msamd_income                                                               float64\n",
              "number_of_owner_occupied_units                                                      float64\n",
              "number_of_1_to_4_family_units                                                       float64\n",
              "applicant_ethnicity_name_Hispanic or Latino                                         float64\n",
              "applicant_ethnicity_name_Not Hispanic or Latino                                     float64\n",
              "applicant_race_name_1_American Indian or Alaska Native                              float64\n",
              "applicant_race_name_1_Asian                                                         float64\n",
              "applicant_race_name_1_Black or African American                                     float64\n",
              "applicant_race_name_1_Native Hawaiian or Other Pacific Islander                     float64\n",
              "applicant_race_name_1_White                                                         float64\n",
              "applicant_sex_name_Female                                                           float64\n",
              "applicant_sex_name_Male                                                             float64\n",
              "agency_abbr_CFPB                                                                    float64\n",
              "agency_abbr_FDIC                                                                    float64\n",
              "agency_abbr_FRS                                                                     float64\n",
              "agency_abbr_HUD                                                                     float64\n",
              "agency_abbr_NCUA                                                                    float64\n",
              "agency_abbr_OCC                                                                     float64\n",
              "owner_occupancy_name_Not applicable                                                 float64\n",
              "owner_occupancy_name_Not owner-occupied as a principal dwelling                     float64\n",
              "owner_occupancy_name_Owner-occupied as a principal dwelling                         float64\n",
              "property_type_name_Manufactured housing                                             float64\n",
              "property_type_name_One-to-four family dwelling (other than manufactured housing)    float64\n",
              "loan_purpose_name_Home improvement                                                  float64\n",
              "loan_purpose_name_Home purchase                                                     float64\n",
              "loan_purpose_name_Refinancing                                                       float64\n",
              "loan_type_name_Conventional                                                         float64\n",
              "loan_type_name_FHA-insured                                                          float64\n",
              "loan_type_name_FSA/RHS-guaranteed                                                   float64\n",
              "loan_type_name_VA-guaranteed                                                        float64\n",
              "action_taken_name                                                                      bool\n",
              "dtype: object"
            ]
          },
          "metadata": {},
          "execution_count": 11
        }
      ]
    },
    {
      "cell_type": "code",
      "source": [
        "# remove redundent vars\n",
        "keep_vars = ['agency_abbr', 'loan_type_name', 'loan_amount_000s', 'owner_occupancy_name', 'loan_purpose_name', 'property_type_name', 'applicant_ethnicity_name', 'applicant_race_name_1', 'applicant_sex_name', 'applicant_income_000s', 'population', 'minority_population', 'hud_median_family_income', 'tract_to_msamd_income', 'number_of_owner_occupied_units', 'number_of_1_to_4_family_units', 'action_taken_name']\n",
        "\n",
        "keep_vars_df = df[keep_vars]\n",
        "\n",
        "keep_vars_df.head()"
      ],
      "metadata": {
        "colab": {
          "base_uri": "https://localhost:8080/",
          "height": 373
        },
        "id": "OwFTRmwiqyNY",
        "outputId": "9baecfa8-a266-4a0a-833b-4b6f443e32a0"
      },
      "execution_count": 10,
      "outputs": [
        {
          "output_type": "error",
          "ename": "KeyError",
          "evalue": "\"['agency_abbr', 'loan_type_name', 'owner_occupancy_name', 'loan_purpose_name', 'property_type_name', 'applicant_ethnicity_name', 'applicant_race_name_1', 'applicant_sex_name'] not in index\"",
          "traceback": [
            "\u001b[0;31m---------------------------------------------------------------------------\u001b[0m",
            "\u001b[0;31mKeyError\u001b[0m                                  Traceback (most recent call last)",
            "\u001b[0;32m<ipython-input-10-f4ad414652ee>\u001b[0m in \u001b[0;36m<cell line: 4>\u001b[0;34m()\u001b[0m\n\u001b[1;32m      2\u001b[0m \u001b[0mkeep_vars\u001b[0m \u001b[0;34m=\u001b[0m \u001b[0;34m[\u001b[0m\u001b[0;34m'agency_abbr'\u001b[0m\u001b[0;34m,\u001b[0m \u001b[0;34m'loan_type_name'\u001b[0m\u001b[0;34m,\u001b[0m \u001b[0;34m'loan_amount_000s'\u001b[0m\u001b[0;34m,\u001b[0m \u001b[0;34m'owner_occupancy_name'\u001b[0m\u001b[0;34m,\u001b[0m \u001b[0;34m'loan_purpose_name'\u001b[0m\u001b[0;34m,\u001b[0m \u001b[0;34m'property_type_name'\u001b[0m\u001b[0;34m,\u001b[0m \u001b[0;34m'applicant_ethnicity_name'\u001b[0m\u001b[0;34m,\u001b[0m \u001b[0;34m'applicant_race_name_1'\u001b[0m\u001b[0;34m,\u001b[0m \u001b[0;34m'applicant_sex_name'\u001b[0m\u001b[0;34m,\u001b[0m \u001b[0;34m'applicant_income_000s'\u001b[0m\u001b[0;34m,\u001b[0m \u001b[0;34m'population'\u001b[0m\u001b[0;34m,\u001b[0m \u001b[0;34m'minority_population'\u001b[0m\u001b[0;34m,\u001b[0m \u001b[0;34m'hud_median_family_income'\u001b[0m\u001b[0;34m,\u001b[0m \u001b[0;34m'tract_to_msamd_income'\u001b[0m\u001b[0;34m,\u001b[0m \u001b[0;34m'number_of_owner_occupied_units'\u001b[0m\u001b[0;34m,\u001b[0m \u001b[0;34m'number_of_1_to_4_family_units'\u001b[0m\u001b[0;34m,\u001b[0m \u001b[0;34m'action_taken_name'\u001b[0m\u001b[0;34m]\u001b[0m\u001b[0;34m\u001b[0m\u001b[0;34m\u001b[0m\u001b[0m\n\u001b[1;32m      3\u001b[0m \u001b[0;34m\u001b[0m\u001b[0m\n\u001b[0;32m----> 4\u001b[0;31m \u001b[0mkeep_vars_df\u001b[0m \u001b[0;34m=\u001b[0m \u001b[0mdf\u001b[0m\u001b[0;34m[\u001b[0m\u001b[0mkeep_vars\u001b[0m\u001b[0;34m]\u001b[0m\u001b[0;34m\u001b[0m\u001b[0;34m\u001b[0m\u001b[0m\n\u001b[0m\u001b[1;32m      5\u001b[0m \u001b[0;34m\u001b[0m\u001b[0m\n\u001b[1;32m      6\u001b[0m \u001b[0mkeep_vars_df\u001b[0m\u001b[0;34m.\u001b[0m\u001b[0mhead\u001b[0m\u001b[0;34m(\u001b[0m\u001b[0;34m)\u001b[0m\u001b[0;34m\u001b[0m\u001b[0;34m\u001b[0m\u001b[0m\n",
            "\u001b[0;32m/usr/local/lib/python3.10/dist-packages/pandas/core/frame.py\u001b[0m in \u001b[0;36m__getitem__\u001b[0;34m(self, key)\u001b[0m\n\u001b[1;32m   3811\u001b[0m             \u001b[0;32mif\u001b[0m \u001b[0mis_iterator\u001b[0m\u001b[0;34m(\u001b[0m\u001b[0mkey\u001b[0m\u001b[0;34m)\u001b[0m\u001b[0;34m:\u001b[0m\u001b[0;34m\u001b[0m\u001b[0;34m\u001b[0m\u001b[0m\n\u001b[1;32m   3812\u001b[0m                 \u001b[0mkey\u001b[0m \u001b[0;34m=\u001b[0m \u001b[0mlist\u001b[0m\u001b[0;34m(\u001b[0m\u001b[0mkey\u001b[0m\u001b[0;34m)\u001b[0m\u001b[0;34m\u001b[0m\u001b[0;34m\u001b[0m\u001b[0m\n\u001b[0;32m-> 3813\u001b[0;31m             \u001b[0mindexer\u001b[0m \u001b[0;34m=\u001b[0m \u001b[0mself\u001b[0m\u001b[0;34m.\u001b[0m\u001b[0mcolumns\u001b[0m\u001b[0;34m.\u001b[0m\u001b[0m_get_indexer_strict\u001b[0m\u001b[0;34m(\u001b[0m\u001b[0mkey\u001b[0m\u001b[0;34m,\u001b[0m \u001b[0;34m\"columns\"\u001b[0m\u001b[0;34m)\u001b[0m\u001b[0;34m[\u001b[0m\u001b[0;36m1\u001b[0m\u001b[0;34m]\u001b[0m\u001b[0;34m\u001b[0m\u001b[0;34m\u001b[0m\u001b[0m\n\u001b[0m\u001b[1;32m   3814\u001b[0m \u001b[0;34m\u001b[0m\u001b[0m\n\u001b[1;32m   3815\u001b[0m         \u001b[0;31m# take() does not accept boolean indexers\u001b[0m\u001b[0;34m\u001b[0m\u001b[0;34m\u001b[0m\u001b[0m\n",
            "\u001b[0;32m/usr/local/lib/python3.10/dist-packages/pandas/core/indexes/base.py\u001b[0m in \u001b[0;36m_get_indexer_strict\u001b[0;34m(self, key, axis_name)\u001b[0m\n\u001b[1;32m   6068\u001b[0m             \u001b[0mkeyarr\u001b[0m\u001b[0;34m,\u001b[0m \u001b[0mindexer\u001b[0m\u001b[0;34m,\u001b[0m \u001b[0mnew_indexer\u001b[0m \u001b[0;34m=\u001b[0m \u001b[0mself\u001b[0m\u001b[0;34m.\u001b[0m\u001b[0m_reindex_non_unique\u001b[0m\u001b[0;34m(\u001b[0m\u001b[0mkeyarr\u001b[0m\u001b[0;34m)\u001b[0m\u001b[0;34m\u001b[0m\u001b[0;34m\u001b[0m\u001b[0m\n\u001b[1;32m   6069\u001b[0m \u001b[0;34m\u001b[0m\u001b[0m\n\u001b[0;32m-> 6070\u001b[0;31m         \u001b[0mself\u001b[0m\u001b[0;34m.\u001b[0m\u001b[0m_raise_if_missing\u001b[0m\u001b[0;34m(\u001b[0m\u001b[0mkeyarr\u001b[0m\u001b[0;34m,\u001b[0m \u001b[0mindexer\u001b[0m\u001b[0;34m,\u001b[0m \u001b[0maxis_name\u001b[0m\u001b[0;34m)\u001b[0m\u001b[0;34m\u001b[0m\u001b[0;34m\u001b[0m\u001b[0m\n\u001b[0m\u001b[1;32m   6071\u001b[0m \u001b[0;34m\u001b[0m\u001b[0m\n\u001b[1;32m   6072\u001b[0m         \u001b[0mkeyarr\u001b[0m \u001b[0;34m=\u001b[0m \u001b[0mself\u001b[0m\u001b[0;34m.\u001b[0m\u001b[0mtake\u001b[0m\u001b[0;34m(\u001b[0m\u001b[0mindexer\u001b[0m\u001b[0;34m)\u001b[0m\u001b[0;34m\u001b[0m\u001b[0;34m\u001b[0m\u001b[0m\n",
            "\u001b[0;32m/usr/local/lib/python3.10/dist-packages/pandas/core/indexes/base.py\u001b[0m in \u001b[0;36m_raise_if_missing\u001b[0;34m(self, key, indexer, axis_name)\u001b[0m\n\u001b[1;32m   6131\u001b[0m \u001b[0;34m\u001b[0m\u001b[0m\n\u001b[1;32m   6132\u001b[0m             \u001b[0mnot_found\u001b[0m \u001b[0;34m=\u001b[0m \u001b[0mlist\u001b[0m\u001b[0;34m(\u001b[0m\u001b[0mensure_index\u001b[0m\u001b[0;34m(\u001b[0m\u001b[0mkey\u001b[0m\u001b[0;34m)\u001b[0m\u001b[0;34m[\u001b[0m\u001b[0mmissing_mask\u001b[0m\u001b[0;34m.\u001b[0m\u001b[0mnonzero\u001b[0m\u001b[0;34m(\u001b[0m\u001b[0;34m)\u001b[0m\u001b[0;34m[\u001b[0m\u001b[0;36m0\u001b[0m\u001b[0;34m]\u001b[0m\u001b[0;34m]\u001b[0m\u001b[0;34m.\u001b[0m\u001b[0munique\u001b[0m\u001b[0;34m(\u001b[0m\u001b[0;34m)\u001b[0m\u001b[0;34m)\u001b[0m\u001b[0;34m\u001b[0m\u001b[0;34m\u001b[0m\u001b[0m\n\u001b[0;32m-> 6133\u001b[0;31m             \u001b[0;32mraise\u001b[0m \u001b[0mKeyError\u001b[0m\u001b[0;34m(\u001b[0m\u001b[0;34mf\"{not_found} not in index\"\u001b[0m\u001b[0;34m)\u001b[0m\u001b[0;34m\u001b[0m\u001b[0;34m\u001b[0m\u001b[0m\n\u001b[0m\u001b[1;32m   6134\u001b[0m \u001b[0;34m\u001b[0m\u001b[0m\n\u001b[1;32m   6135\u001b[0m     \u001b[0;34m@\u001b[0m\u001b[0moverload\u001b[0m\u001b[0;34m\u001b[0m\u001b[0;34m\u001b[0m\u001b[0m\n",
            "\u001b[0;31mKeyError\u001b[0m: \"['agency_abbr', 'loan_type_name', 'owner_occupancy_name', 'loan_purpose_name', 'property_type_name', 'applicant_ethnicity_name', 'applicant_race_name_1', 'applicant_sex_name'] not in index\""
          ]
        }
      ]
    },
    {
      "cell_type": "code",
      "source": [
        "# categorical variables\n",
        "cat_variables = ['applicant_ethnicity_name', 'applicant_race_name_1', 'applicant_sex_name', 'agency_abbr',\n",
        "                                 'owner_occupancy_name', 'property_type_name', 'loan_purpose_name', 'loan_type_name']\n",
        "\n",
        "### Pre-processing\n",
        "# Mapping categorical variables to one-hot encoding\n",
        "df_cat = pd.DataFrame(index=df.index)\n",
        "\n",
        "# one-hot encoding of categorical variables\n",
        "from sklearn.preprocessing import OneHotEncoder\n",
        "\n",
        "# I will do a loop for pedagogical reasons, but it is not entirely necessary\n",
        "for cat in cat_variables:\n",
        "    # one-hot encoding fitting\n",
        "    one_hot_func = OneHotEncoder().fit(df[[cat]])\n",
        "\n",
        "    # mapping\n",
        "    cat_mapped = one_hot_func.transform(df[[cat]]).toarray()\n",
        "\n",
        "    # storing\n",
        "    for (k, cat_label) in enumerate(one_hot_func.categories_[0]):\n",
        "        df_cat[cat + \"_\" + cat_label] = cat_mapped[:, k]\n",
        "\n",
        "assert(df_cat.shape == (165950,27))"
      ],
      "metadata": {
        "id": "99ZIyEwsr0H5"
      },
      "execution_count": null,
      "outputs": []
    },
    {
      "cell_type": "code",
      "source": [
        "# other integer variables\n",
        "int_variables = ['loan_amount_000s', 'applicant_income_000s', 'population', 'minority_population',\n",
        "                 'hud_median_family_income', 'tract_to_msamd_income', 'number_of_owner_occupied_units',\n",
        "                 'number_of_1_to_4_family_units']\n",
        "\n",
        "\n",
        "# target variable\n",
        "output_variable = ['action_taken_name']\n",
        "\n",
        "# consolidating a final dataset\n",
        "df_final = pd.concat([df[int_variables], df_cat, (df[output_variable] == \"Application denied by financial institution\").copy()], axis=1)\n",
        "\n",
        "assert(df_final.shape == (165950,36))"
      ],
      "metadata": {
        "id": "bzMu2XKmr3ar"
      },
      "execution_count": null,
      "outputs": []
    },
    {
      "cell_type": "code",
      "source": [
        "# Store the dataset in pickled dictionary\n",
        "df_final.to_pickle(\"/content/drive/My Drive/mortgage_data_preprocessed.pkl.gz\")"
      ],
      "metadata": {
        "id": "a0Toa-tlr8PP"
      },
      "execution_count": null,
      "outputs": []
    }
  ]
}